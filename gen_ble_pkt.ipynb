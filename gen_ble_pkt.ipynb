{
 "cells": [
  {
   "cell_type": "code",
   "execution_count": 2,
   "id": "deec6c2f-5221-4d8f-9598-ae66a70dd433",
   "metadata": {},
   "outputs": [],
   "source": [
    "import numpy as np\n",
    "import matplotlib.pyplot as plt\n",
    "from crccheck.crc import Crc24Ble"
   ]
  },
  {
   "cell_type": "code",
   "execution_count": 3,
   "id": "fd6836e3-41ba-4876-847f-450f44f1ba56",
   "metadata": {},
   "outputs": [],
   "source": [
    "ADV_IND         = 0x00\n",
    "ADV_SCAN_IND    = 0x03\n",
    "ADV_NONCONN_IND = 0x04\n",
    "ADV_DIRECT_IND  = 0x08\n",
    "\n",
    "def scrambling_code(channel, length):\n",
    "    lfsr = np.unpackbits(np.array([channel], dtype=np.ubyte))\n",
    "    lfsr[1] = 1\n",
    "    lfsr = lfsr[1:]\n",
    "    out = np.zeros(length * 8, dtype=np.ubyte)\n",
    "    for i in range(length * 8):\n",
    "        out[i] = lfsr[6]\n",
    "        lfsr[6] = lfsr[5]\n",
    "        lfsr[5] = lfsr[4]\n",
    "        lfsr[4] = out[i] ^ lfsr[3]\n",
    "        lfsr[3] = lfsr[2]\n",
    "        lfsr[2] = lfsr[1]\n",
    "        lfsr[1] = lfsr[0]\n",
    "        lfsr[0] = out[i]\n",
    "    return np.packbits(out, bitorder=\"little\")\n",
    "\n",
    "def gen_ad_pdu(ad_type, access_address, payload, tx_add=0, rx_add=0):\n",
    "    payload_buf = b\"\"\n",
    "    flag = (rx_add << 3) + (tx_add << 2)\n",
    "    for data_type in payload:\n",
    "        section = bytes([len(payload[data_type]) + 1, data_type]) + payload[data_type]\n",
    "        payload_buf += section\n",
    "    header = bytes([ad_type + (flag << 4), len(payload_buf) + len(access_address)])\n",
    "    return header + access_address + payload_buf\n",
    "\n",
    "def gen_ble_pkt(access_address, pdu, whitening=False):\n",
    "    if access_address[0] & 1 == 1:\n",
    "        preamble = b\"\\x55\"\n",
    "    else:\n",
    "        preamble = b\"\\xaa\"\n",
    "    crc = Crc24Ble.calcbytes(pdu)[::-1]\n",
    "    pdu_crc = pdu + crc\n",
    "    if whitening:\n",
    "        pdu_crc = np.frombuffer(pdu_crc, dtype=np.ubyte) ^ scrambling_code(38 ,len(pdu_crc))\n",
    "        pdu_crc = pdu_crc.tobytes()\n",
    "    return preamble + access_address + pdu_crc\n",
    "\n",
    "def hexdump(bytes_input, width=16):\n",
    "    current = 0\n",
    "    end = len(bytes_input)\n",
    "    result = \"\"\n",
    "    while current < end:\n",
    "        result += \"%08x: \" % current\n",
    "        byte_slice = bytes_input[current : current + width]\n",
    "        for b in byte_slice:\n",
    "            result += \"%02x \" % b\n",
    "        for _ in range(width - len(byte_slice)):\n",
    "            result += \" \" * 3\n",
    "        result += \" \"\n",
    "        for b in byte_slice:\n",
    "            if (b >= 32) and (b < 127):\n",
    "                result += chr(b)\n",
    "            else:\n",
    "                result += \".\"\n",
    "        result += \"\\n\"\n",
    "        current += width\n",
    "    return result"
   ]
  },
  {
   "cell_type": "code",
   "execution_count": 8,
   "id": "6a34ca32-c477-4144-afdd-82a76526f352",
   "metadata": {},
   "outputs": [
    {
     "name": "stdout",
     "output_type": "stream",
     "text": [
      "00000000: 40 32 05 a2 17 6e 3d 71 02 01 06 1a ff 59 00 02  @2...n=q.....Y..\n",
      "00000010: 15 01 12 23 34 45 56 67 78 89 9a ab bc cd de ef  ...#4EVgx.......\n",
      "00000020: f0 00 00 00 00 c1 0d 09 54 65 73 74 20 69 42 65  ........Test iBe\n",
      "00000030: 61 63 6f 6e                                      acon\n",
      "\n",
      "00000000: aa d6 be 89 8e 40 32 05 a2 17 6e 3d 71 02 01 06  .....@2...n=q...\n",
      "00000010: 1a ff 59 00 02 15 01 12 23 34 45 56 67 78 89 9a  ..Y.....#4EVgx..\n",
      "00000020: ab bc cd de ef f0 00 00 00 00 c1 0d 09 54 65 73  .............Tes\n",
      "00000030: 74 20 69 42 65 61 63 6f 6e 3f fa 68              t iBeacon?.h\n",
      "\n"
     ]
    }
   ],
   "source": [
    "uuid = b\"\\x01\\x12\\x23\\x34\\x45\\x56\\x67\\x78\\x89\\x9a\\xab\\xbc\\xcd\\xde\\xef\\xf0\"\n",
    "\n",
    "payload = {\n",
    "    0x01: b\"\\x06\",\n",
    "    0xff: b\"\\x59\\x00\\x02\\x15\" + uuid + b\"\\x00\\x00\\x00\\x00\\xc1\",\n",
    "    0x09: \"Test iBeacon\".encode(),\n",
    "}\n",
    "\n",
    "pdu = gen_ad_pdu(ADV_IND, b\"\\x05\\xa2\\x17\\x6e\\x3d\\x71\", payload, tx_add=1)\n",
    "print(hexdump(pdu))\n",
    "pkt = gen_ble_pkt(b\"\\xd6\\xbe\\x89\\x8e\", pdu, whitening=True)\n",
    "print(hexdump(pkt))\n",
    "\n",
    "with open(\"ibeacon.dat\", \"wb\") as f:\n",
    "    tmp = np.frombuffer(pkt, dtype=np.ubyte)\n",
    "    f.write(tmp.tobytes())"
   ]
  }
 ],
 "metadata": {
  "kernelspec": {
   "display_name": "Python 3 (ipykernel)",
   "language": "python",
   "name": "python3"
  },
  "language_info": {
   "codemirror_mode": {
    "name": "ipython",
    "version": 3
   },
   "file_extension": ".py",
   "mimetype": "text/x-python",
   "name": "python",
   "nbconvert_exporter": "python",
   "pygments_lexer": "ipython3",
   "version": "3.10.8"
  }
 },
 "nbformat": 4,
 "nbformat_minor": 5
}
