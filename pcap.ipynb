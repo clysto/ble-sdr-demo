{
 "cells": [
  {
   "cell_type": "code",
   "execution_count": 24,
   "id": "5a1e02e8-086e-47f6-84db-0fd75a441b64",
   "metadata": {},
   "outputs": [],
   "source": [
    "import numpy as np\n",
    "import struct\n",
    "import time\n",
    "\n",
    "def hexdump(bytes_input, width=16):\n",
    "    current = 0\n",
    "    end = len(bytes_input)\n",
    "    result = \"\"\n",
    "    while current < end:\n",
    "        result += \"%08x: \" % current\n",
    "        byte_slice = bytes_input[current : current + width]\n",
    "        for b in byte_slice:\n",
    "            result += \"%02x \" % b\n",
    "        for _ in range(width - len(byte_slice)):\n",
    "            result += \" \" * 3\n",
    "        result += \" \"\n",
    "        for b in byte_slice:\n",
    "            if (b >= 32) and (b < 127):\n",
    "                result += chr(b)\n",
    "            else:\n",
    "                result += \".\"\n",
    "        result += \"\\n\"\n",
    "        current += width\n",
    "    return result"
   ]
  },
  {
   "cell_type": "code",
   "execution_count": 42,
   "id": "79ad107d-9758-491c-a4cb-7fe9ba5cf558",
   "metadata": {},
   "outputs": [
    {
     "name": "stdout",
     "output_type": "stream",
     "text": [
      "00000000: aa d6 be 89 8e 40 32 05 a2 17 6e 3d 71 02 01 06  .....@2...n=q...\n",
      "00000010: 1a ff 59 00 02 15 01 12 23 34 45 56 67 78 89 9a  ..Y.....#4EVgx..\n",
      "00000020: ab bc cd de ef f0 00 00 00 00 c1 0d 09 54 65 73  .............Tes\n",
      "00000030: 74 20 69 42 65 61 63 6f 6e 3f fa 68              t iBeacon?.h\n",
      "\n"
     ]
    }
   ],
   "source": [
    "with open(\"ibeacon.dat\", \"rb\") as f:\n",
    "    data = f.read()\n",
    "\n",
    "print(hexdump(data))"
   ]
  },
  {
   "cell_type": "code",
   "execution_count": 44,
   "id": "26b7ac3c-31ae-403b-932b-1ea8eaeb64db",
   "metadata": {},
   "outputs": [
    {
     "name": "stdout",
     "output_type": "stream",
     "text": [
      "00000000: d4 c3 b2 a1 02 00 04 00 00 00 00 00 00 00 00 00  ................\n",
      "00000010: ff ff 00 00 00 01 00 00 d0 7b ce 63 49 97 05 00  .........{.cI...\n",
      "00000020: 45 00 00 00 45 00 00 00 0c ff ff 00 d6 be 89 8e  E...E...........\n",
      "00000030: 37 3c d6 be 89 8e 40 32 05 a2 17 6e 3d 71 02 01  7<....@2...n=q..\n",
      "00000040: 06 1a ff 59 00 02 15 01 12 23 34 45 56 67 78 89  ...Y.....#4EVgx.\n",
      "00000050: 9a ab bc cd de ef f0 00 00 00 00 c1 0d 09 54 65  ..............Te\n",
      "00000060: 73 74 20 69 42 65 61 63 6f 6e 3f fa 68 d0 7b ce  st iBeacon?.h.{.\n",
      "00000070: 63 4b 97 05 00 45 00 00 00 45 00 00 00 0c ff ff  cK...E...E......\n",
      "00000080: 00 d6 be 89 8e 37 3c d6 be 89 8e 40 32 05 a2 17  .....7<....@2...\n",
      "00000090: 6e 3d 71 02 01 06 1a ff 59 00 02 15 01 12 23 34  n=q.....Y.....#4\n",
      "000000a0: 45 56 67 78 89 9a ab bc cd de ef f0 00 00 00 00  EVgx............\n",
      "000000b0: c1 0d 09 54 65 73 74 20 69 42 65 61 63 6f 6e 3f  ...Test iBeacon?\n",
      "000000c0: fa 68 d0 7b ce 63 4c 97 05 00 45 00 00 00 45 00  .h.{.cL...E...E.\n",
      "000000d0: 00 00 0c ff ff 00 d6 be 89 8e 37 3c d6 be 89 8e  ..........7<....\n",
      "000000e0: 40 32 05 a2 17 6e 3d 71 02 01 06 1a ff 59 00 02  @2...n=q.....Y..\n",
      "000000f0: 15 01 12 23 34 45 56 67 78 89 9a ab bc cd de ef  ...#4EVgx.......\n",
      "00000100: f0 00 00 00 00 c1 0d 09 54 65 73 74 20 69 42 65  ........Test iBe\n",
      "00000110: 61 63 6f 6e 3f fa 68                             acon?.h\n",
      "\n"
     ]
    }
   ],
   "source": [
    "PCAP_MAGIC_NUMBER = b\"\\xd4\\xc3\\xb2\\xa1\"\n",
    "LINKTYPE_BLUETOOTH_LE_LL = 251\n",
    "LINKTYPE_BLUETOOTH_LE_LL_WITH_PHDR = 256\n",
    "\n",
    "def pcap_global_header():\n",
    "    header =  PCAP_MAGIC_NUMBER\n",
    "    header += struct.pack(\"HH\", 2, 4)\n",
    "    header += b\"\\x00\" * 8\n",
    "    header += struct.pack(\"I\", 0xffff)\n",
    "    header += struct.pack(\"I\", LINKTYPE_BLUETOOTH_LE_LL_WITH_PHDR)\n",
    "    return header\n",
    "\n",
    "def pcap_packet_header(length=0):\n",
    "    timestamp = time.time()\n",
    "    seconds = int(timestamp)\n",
    "    useconds = int((timestamp - seconds) * 1000000)\n",
    "    header = struct.pack(\"IIII\", seconds, useconds, length, length)\n",
    "    return header\n",
    "\n",
    "def pcap_packet_data(pkt=b\"\"):\n",
    "    data = b\"\\x0c\\xff\\xff\\x00\\xd6\\xbe\\x89\\x8e\\x37\\x3c\"\n",
    "    data += pkt\n",
    "    return data\n",
    "\n",
    "def pcap_ble_export(ble_pkts):\n",
    "    buf = b\"\"\n",
    "    global_header = pcap_global_header()\n",
    "    buf += global_header\n",
    "    for pkt in ble_pkts:\n",
    "        # remove preamble\n",
    "        pkt = pkt[1:]\n",
    "        pkt_header = pcap_packet_header(len(pkt) + 10)\n",
    "        pkt_data = pcap_packet_data(pkt)\n",
    "        buf += pkt_header + pkt_data\n",
    "    return buf\n",
    "\n",
    "pcap_content = pcap_ble_export([data, data, data])\n",
    "print(hexdump(pcap_content))\n",
    "\n",
    "with open(\"ble_pcap_demo.cap\", \"wb\") as f:\n",
    "    f.write(pcap_content)"
   ]
  }
 ],
 "metadata": {
  "kernelspec": {
   "display_name": "Python 3 (ipykernel)",
   "language": "python",
   "name": "python3"
  },
  "language_info": {
   "codemirror_mode": {
    "name": "ipython",
    "version": 3
   },
   "file_extension": ".py",
   "mimetype": "text/x-python",
   "name": "python",
   "nbconvert_exporter": "python",
   "pygments_lexer": "ipython3",
   "version": "3.10.8"
  }
 },
 "nbformat": 4,
 "nbformat_minor": 5
}
